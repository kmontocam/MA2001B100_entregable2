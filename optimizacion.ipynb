{
 "cells": [
  {
   "cell_type": "code",
   "execution_count": 1,
   "metadata": {},
   "outputs": [],
   "source": [
    "import pandas as pd"
   ]
  },
  {
   "cell_type": "code",
   "execution_count": 3,
   "metadata": {},
   "outputs": [
    {
     "name": "stdout",
     "output_type": "stream",
     "text": [
      "x\n"
     ]
    }
   ],
   "source": [
    "# Read gams file\n",
    "\n",
    "time_cost = pd.read_csv(r'/Users/kmontocam/Downloads/Matriz_tiempos_TSP.csv', header = None) # csv file with the time cost of every route in minutes\n",
    "output_path = r'/Users/kmontocam/Downloads/TSP.lst' # GAMS output\n",
    "\n",
    "with open(output_path, encoding = 'utf-8') as f:\n",
    "    output_gams = [line for line in f]\n",
    "\n",
    "## Look for matrix variable\n",
    "\n",
    "for current, further in zip(output_gams, output_gams[1:]):\n",
    "    if 'binary variables' in current:\n",
    "        var_name  = further\n",
    "        var_name = var_name.partition('(')[0][::-1].partition(' ')[0]\n",
    "        break\n",
    "\n",
    "print(var_name)"
   ]
  },
  {
   "cell_type": "code",
   "execution_count": 4,
   "metadata": {},
   "outputs": [
    {
     "data": {
      "text/plain": [
       "['1 .12          .             1.0000         1.0000         2.9072      \\n',\n",
       " '2 .10          .             1.0000         1.0000         6.8477      \\n',\n",
       " '3 .25          .             1.0000         1.0000         5.9153      \\n',\n",
       " '4 .2           .             1.0000         1.0000         5.5454      \\n',\n",
       " '5 .18          .             1.0000         1.0000        12.7706      \\n',\n",
       " '6 .16          .             1.0000         1.0000         3.0845      \\n',\n",
       " '7 .1           .             1.0000         1.0000         1.8403      \\n',\n",
       " '8 .5           .             1.0000         1.0000         0.4509      \\n',\n",
       " '9 .4           .             1.0000         1.0000         4.9401      \\n',\n",
       " '10.3           .             1.0000         1.0000         2.9928      \\n',\n",
       " '11.14          .             1.0000         1.0000         0.2063      \\n',\n",
       " '12.19          .             1.0000         1.0000        10.2287      \\n',\n",
       " '13.11          .             1.0000         1.0000         0.9049      \\n',\n",
       " '14.7           .             1.0000         1.0000         1.7853      \\n',\n",
       " '15.22          .             1.0000         1.0000         0.5869      \\n',\n",
       " '16.21          .             1.0000         1.0000         2.9332      \\n',\n",
       " '17.15          .             1.0000         1.0000         2.0681      \\n',\n",
       " '18.9           .             1.0000         1.0000        10.3953      \\n',\n",
       " '19.20          .             1.0000         1.0000        39.3956      \\n',\n",
       " '20.23          .             1.0000         1.0000        48.7485      \\n',\n",
       " '21.17          .             1.0000         1.0000         1.1724      \\n',\n",
       " '22.24          .             1.0000         1.0000         2.6412      \\n',\n",
       " '23.6           .             1.0000         1.0000         2.1063      \\n',\n",
       " '24.8           .             1.0000         1.0000        18.0638      \\n',\n",
       " '25.13          .             1.0000         1.0000         2.2805      \\n']"
      ]
     },
     "execution_count": 4,
     "metadata": {},
     "output_type": "execute_result"
    }
   ],
   "source": [
    "# Look for results\n",
    "\n",
    "for idx, line in enumerate(output_gams):\n",
    "    if f'---- VAR {var_name}  \\n' == line:\n",
    "        start_from = idx + 4\n",
    "\n",
    "routes_list_table = list()\n",
    "\n",
    "for line in output_gams[start_from:]:\n",
    "    if line == '\\n':\n",
    "        break\n",
    "    if line.split()[-3] != '.':\n",
    "        routes_list_table.append(line)\n",
    "\n",
    "routes_list_table"
   ]
  },
  {
   "cell_type": "code",
   "execution_count": 67,
   "metadata": {},
   "outputs": [
    {
     "data": {
      "text/plain": [
       "['25.13',\n",
       " '13.11',\n",
       " '11.14',\n",
       " '14.7',\n",
       " '7.1',\n",
       " '1.12',\n",
       " '12.19',\n",
       " '19.20',\n",
       " '20.23',\n",
       " '23.6',\n",
       " '6.16',\n",
       " '16.21',\n",
       " '21.17',\n",
       " '17.15',\n",
       " '15.22',\n",
       " '22.24',\n",
       " '24.8',\n",
       " '8.5',\n",
       " '5.18',\n",
       " '18.9',\n",
       " '9.4',\n",
       " '4.2',\n",
       " '2.10',\n",
       " '10.3',\n",
       " '3.25']"
      ]
     },
     "execution_count": 67,
     "metadata": {},
     "output_type": "execute_result"
    }
   ],
   "source": [
    "# Keep indexes only and filter\n",
    "\n",
    "routes_list = list()\n",
    "\n",
    "for route in routes_list_table:\n",
    "    if len(route.split()) == 6:\n",
    "        route = route.split()[0] + route.split()[1]\n",
    "        routes_list.append(route)\n",
    "    else:\n",
    "        routes_list.append(route.split()[0])\n",
    "\n",
    "# Start list from home and order the route\n",
    "\n",
    "routes_dict  = {route.split('.')[0]:route.split('.')[-1] for route in routes_list}\n",
    "\n",
    "ordered_routes = [routes_list.pop()] # pops last item in route, since is the beginning of the track and begins sorted list\n",
    "\n",
    "for _ in range(len(routes_list)):\n",
    "    ordered_routes.append(\n",
    "        str(routes_dict.get(ordered_routes[-1].split('.')[0])) + '.' +\n",
    "        str(routes_dict.get(routes_dict.get(ordered_routes[-1].split('.')[0])))\n",
    "        \n",
    "        )\n",
    "\n",
    "ordered_routes"
   ]
  },
  {
   "cell_type": "code",
   "execution_count": 52,
   "metadata": {},
   "outputs": [],
   "source": [
    "# Calculate time\n",
    "\n",
    "MAX_LABOR_HOURS = 8 # Hours the driver can work during the day\n",
    "STOP_AT_UNIV = 30 # Minutes that the driver will stay in the university\n",
    "\n",
    "labor_time = int()\n",
    "total_time = int()\n",
    "day = 1\n",
    "journey = list()\n",
    "\n",
    "for route in ordered_routes:\n",
    "\n",
    "    row, col = route.split('.')\n",
    "\n",
    "    visit_time = time_cost.iloc[int(row) - 1, int(col) -1] + STOP_AT_UNIV # Add the time that it takes to get from one point to another and add 30 minutes for the sale\n",
    "\n",
    "    if labor_time + visit_time <= 60 * MAX_LABOR_HOURS:\n",
    "        \n",
    "        labor_time += visit_time\n",
    "        journey.append([day, route, visit_time, labor_time])\n",
    "    else:\n",
    "\n",
    "        day += 1\n",
    "        journey.append([day, route, visit_time, labor_time])\n",
    "        labor_time = 0\n",
    "    \n",
    "    total_time += visit_time"
   ]
  },
  {
   "cell_type": "code",
   "execution_count": 60,
   "metadata": {},
   "outputs": [],
   "source": [
    "route = pd.DataFrame(journey, columns = ['day', 'visit', 'time_spent_in_visit', 'minutes_worked_in_day'])\n",
    "route.to_csv('route.csv', index = False)"
   ]
  },
  {
   "cell_type": "code",
   "execution_count": 45,
   "metadata": {},
   "outputs": [
    {
     "data": {
      "text/plain": [
       "15.983333333333333"
      ]
     },
     "execution_count": 45,
     "metadata": {},
     "output_type": "execute_result"
    }
   ],
   "source": [
    "total_time/60 # La persona logra realizar el ruteo en dos jornadas laborales exactas"
   ]
  },
  {
   "cell_type": "code",
   "execution_count": 63,
   "metadata": {},
   "outputs": [
    {
     "name": "stdout",
     "output_type": "stream",
     "text": [
      "\\begin{tabular}{rlrr}\n",
      "\\toprule\n",
      " day & visit &  time\\_spent\\_in\\_visit &  minutes\\_worked\\_in\\_day \\\\\n",
      "\\midrule\n",
      "   1 & 25.13 &                   35 &                     35 \\\\\n",
      "   1 & 13.11 &                   32 &                     67 \\\\\n",
      "   1 & 11.14 &                   30 &                     97 \\\\\n",
      "   1 &  14.7 &                   34 &                    131 \\\\\n",
      "   1 &   7.1 &                   34 &                    165 \\\\\n",
      "   1 &  1.12 &                   35 &                    200 \\\\\n",
      "   1 & 12.19 &                   48 &                    248 \\\\\n",
      "   1 & 19.20 &                   55 &                    303 \\\\\n",
      "   1 & 20.23 &                   69 &                    372 \\\\\n",
      "   1 &  23.6 &                   34 &                    406 \\\\\n",
      "   1 &  6.16 &                   36 &                    442 \\\\\n",
      "   1 & 16.21 &                   36 &                    478 \\\\\n",
      "   2 & 21.17 &                   32 &                    478 \\\\\n",
      "   2 & 17.15 &                   34 &                     34 \\\\\n",
      "   2 & 15.22 &                   31 &                     65 \\\\\n",
      "   2 & 22.24 &                   34 &                     99 \\\\\n",
      "   2 &  24.8 &                   44 &                    143 \\\\\n",
      "   2 &   8.5 &                   31 &                    174 \\\\\n",
      "   2 &  5.18 &                   44 &                    218 \\\\\n",
      "   2 &  18.9 &                   44 &                    262 \\\\\n",
      "   2 &   9.4 &                   36 &                    298 \\\\\n",
      "   2 &   4.2 &                   38 &                    336 \\\\\n",
      "   2 &  2.10 &                   40 &                    376 \\\\\n",
      "   2 &  10.3 &                   36 &                    412 \\\\\n",
      "   2 &  3.25 &                   37 &                    449 \\\\\n",
      "\\bottomrule\n",
      "\\end{tabular}\n",
      "\n"
     ]
    }
   ],
   "source": [
    "print(route.to_latex(index = False, multirow = True))"
   ]
  },
  {
   "cell_type": "code",
   "execution_count": 65,
   "metadata": {},
   "outputs": [
    {
     "data": {
      "text/plain": [
       "15.983333333333333"
      ]
     },
     "execution_count": 65,
     "metadata": {},
     "output_type": "execute_result"
    }
   ],
   "source": [
    "total_time/60"
   ]
  }
 ],
 "metadata": {
  "interpreter": {
   "hash": "5cd21e6b7c3569a578c4ab3a539dc03aa045f5cf2dcb8d2e2738eed789ce24d2"
  },
  "kernelspec": {
   "display_name": "Python 3.8.8 64-bit ('base': conda)",
   "name": "python3"
  },
  "language_info": {
   "codemirror_mode": {
    "name": "ipython",
    "version": 3
   },
   "file_extension": ".py",
   "mimetype": "text/x-python",
   "name": "python",
   "nbconvert_exporter": "python",
   "pygments_lexer": "ipython3",
   "version": "3.8.8"
  },
  "orig_nbformat": 4
 },
 "nbformat": 4,
 "nbformat_minor": 2
}